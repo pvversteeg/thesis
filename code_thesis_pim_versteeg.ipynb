{
  "nbformat": 4,
  "nbformat_minor": 0,
  "metadata": {
    "colab": {
      "provenance": [],
      "machine_shape": "hm",
      "gpuType": "A100",
      "toc_visible": true
    },
    "kernelspec": {
      "name": "python3",
      "display_name": "Python 3"
    },
    "language_info": {
      "name": "python"
    },
    "accelerator": "GPU",
    "widgets": {
      "application/vnd.jupyter.widget-state+json": {
        "f3f0ed256a8f403ca4eee5f1a1cdfe13": {
          "model_module": "@jupyter-widgets/controls",
          "model_name": "HBoxModel",
          "model_module_version": "1.5.0",
          "state": {
            "_dom_classes": [],
            "_model_module": "@jupyter-widgets/controls",
            "_model_module_version": "1.5.0",
            "_model_name": "HBoxModel",
            "_view_count": null,
            "_view_module": "@jupyter-widgets/controls",
            "_view_module_version": "1.5.0",
            "_view_name": "HBoxView",
            "box_style": "",
            "children": [
              "IPY_MODEL_11bc1d083aad415eb69c1ccbd8f248bb",
              "IPY_MODEL_dc3e107ea7914d45a1b4f3dd16299317",
              "IPY_MODEL_59cd8c7620894b7fb98c536cf3b53bae"
            ],
            "layout": "IPY_MODEL_d35f84efb5f54bb8bcea66dd9d340bcf"
          }
        },
        "11bc1d083aad415eb69c1ccbd8f248bb": {
          "model_module": "@jupyter-widgets/controls",
          "model_name": "HTMLModel",
          "model_module_version": "1.5.0",
          "state": {
            "_dom_classes": [],
            "_model_module": "@jupyter-widgets/controls",
            "_model_module_version": "1.5.0",
            "_model_name": "HTMLModel",
            "_view_count": null,
            "_view_module": "@jupyter-widgets/controls",
            "_view_module_version": "1.5.0",
            "_view_name": "HTMLView",
            "description": "",
            "description_tooltip": null,
            "layout": "IPY_MODEL_bf6c654bb591472397a16c8d7c308d4f",
            "placeholder": "​",
            "style": "IPY_MODEL_18254847d0734587b6b2f275bbd68d6f",
            "value": "100%"
          }
        },
        "dc3e107ea7914d45a1b4f3dd16299317": {
          "model_module": "@jupyter-widgets/controls",
          "model_name": "FloatProgressModel",
          "model_module_version": "1.5.0",
          "state": {
            "_dom_classes": [],
            "_model_module": "@jupyter-widgets/controls",
            "_model_module_version": "1.5.0",
            "_model_name": "FloatProgressModel",
            "_view_count": null,
            "_view_module": "@jupyter-widgets/controls",
            "_view_module_version": "1.5.0",
            "_view_name": "ProgressView",
            "bar_style": "success",
            "description": "",
            "description_tooltip": null,
            "layout": "IPY_MODEL_446c20f36d9541368bb401edb2ee9c5d",
            "max": 25752,
            "min": 0,
            "orientation": "horizontal",
            "style": "IPY_MODEL_81163c55c9e04efdb02ef80142af3679",
            "value": 25752
          }
        },
        "59cd8c7620894b7fb98c536cf3b53bae": {
          "model_module": "@jupyter-widgets/controls",
          "model_name": "HTMLModel",
          "model_module_version": "1.5.0",
          "state": {
            "_dom_classes": [],
            "_model_module": "@jupyter-widgets/controls",
            "_model_module_version": "1.5.0",
            "_model_name": "HTMLModel",
            "_view_count": null,
            "_view_module": "@jupyter-widgets/controls",
            "_view_module_version": "1.5.0",
            "_view_name": "HTMLView",
            "description": "",
            "description_tooltip": null,
            "layout": "IPY_MODEL_b39f676c1d9d43b69f982b77a3b273d0",
            "placeholder": "​",
            "style": "IPY_MODEL_21a07568fb874fc7a3e1ee77759ffd91",
            "value": " 25752/25752 [34:33&lt;00:00, 14.57it/s]"
          }
        },
        "d35f84efb5f54bb8bcea66dd9d340bcf": {
          "model_module": "@jupyter-widgets/base",
          "model_name": "LayoutModel",
          "model_module_version": "1.2.0",
          "state": {
            "_model_module": "@jupyter-widgets/base",
            "_model_module_version": "1.2.0",
            "_model_name": "LayoutModel",
            "_view_count": null,
            "_view_module": "@jupyter-widgets/base",
            "_view_module_version": "1.2.0",
            "_view_name": "LayoutView",
            "align_content": null,
            "align_items": null,
            "align_self": null,
            "border": null,
            "bottom": null,
            "display": null,
            "flex": null,
            "flex_flow": null,
            "grid_area": null,
            "grid_auto_columns": null,
            "grid_auto_flow": null,
            "grid_auto_rows": null,
            "grid_column": null,
            "grid_gap": null,
            "grid_row": null,
            "grid_template_areas": null,
            "grid_template_columns": null,
            "grid_template_rows": null,
            "height": null,
            "justify_content": null,
            "justify_items": null,
            "left": null,
            "margin": null,
            "max_height": null,
            "max_width": null,
            "min_height": null,
            "min_width": null,
            "object_fit": null,
            "object_position": null,
            "order": null,
            "overflow": null,
            "overflow_x": null,
            "overflow_y": null,
            "padding": null,
            "right": null,
            "top": null,
            "visibility": null,
            "width": null
          }
        },
        "bf6c654bb591472397a16c8d7c308d4f": {
          "model_module": "@jupyter-widgets/base",
          "model_name": "LayoutModel",
          "model_module_version": "1.2.0",
          "state": {
            "_model_module": "@jupyter-widgets/base",
            "_model_module_version": "1.2.0",
            "_model_name": "LayoutModel",
            "_view_count": null,
            "_view_module": "@jupyter-widgets/base",
            "_view_module_version": "1.2.0",
            "_view_name": "LayoutView",
            "align_content": null,
            "align_items": null,
            "align_self": null,
            "border": null,
            "bottom": null,
            "display": null,
            "flex": null,
            "flex_flow": null,
            "grid_area": null,
            "grid_auto_columns": null,
            "grid_auto_flow": null,
            "grid_auto_rows": null,
            "grid_column": null,
            "grid_gap": null,
            "grid_row": null,
            "grid_template_areas": null,
            "grid_template_columns": null,
            "grid_template_rows": null,
            "height": null,
            "justify_content": null,
            "justify_items": null,
            "left": null,
            "margin": null,
            "max_height": null,
            "max_width": null,
            "min_height": null,
            "min_width": null,
            "object_fit": null,
            "object_position": null,
            "order": null,
            "overflow": null,
            "overflow_x": null,
            "overflow_y": null,
            "padding": null,
            "right": null,
            "top": null,
            "visibility": null,
            "width": null
          }
        },
        "18254847d0734587b6b2f275bbd68d6f": {
          "model_module": "@jupyter-widgets/controls",
          "model_name": "DescriptionStyleModel",
          "model_module_version": "1.5.0",
          "state": {
            "_model_module": "@jupyter-widgets/controls",
            "_model_module_version": "1.5.0",
            "_model_name": "DescriptionStyleModel",
            "_view_count": null,
            "_view_module": "@jupyter-widgets/base",
            "_view_module_version": "1.2.0",
            "_view_name": "StyleView",
            "description_width": ""
          }
        },
        "446c20f36d9541368bb401edb2ee9c5d": {
          "model_module": "@jupyter-widgets/base",
          "model_name": "LayoutModel",
          "model_module_version": "1.2.0",
          "state": {
            "_model_module": "@jupyter-widgets/base",
            "_model_module_version": "1.2.0",
            "_model_name": "LayoutModel",
            "_view_count": null,
            "_view_module": "@jupyter-widgets/base",
            "_view_module_version": "1.2.0",
            "_view_name": "LayoutView",
            "align_content": null,
            "align_items": null,
            "align_self": null,
            "border": null,
            "bottom": null,
            "display": null,
            "flex": null,
            "flex_flow": null,
            "grid_area": null,
            "grid_auto_columns": null,
            "grid_auto_flow": null,
            "grid_auto_rows": null,
            "grid_column": null,
            "grid_gap": null,
            "grid_row": null,
            "grid_template_areas": null,
            "grid_template_columns": null,
            "grid_template_rows": null,
            "height": null,
            "justify_content": null,
            "justify_items": null,
            "left": null,
            "margin": null,
            "max_height": null,
            "max_width": null,
            "min_height": null,
            "min_width": null,
            "object_fit": null,
            "object_position": null,
            "order": null,
            "overflow": null,
            "overflow_x": null,
            "overflow_y": null,
            "padding": null,
            "right": null,
            "top": null,
            "visibility": null,
            "width": null
          }
        },
        "81163c55c9e04efdb02ef80142af3679": {
          "model_module": "@jupyter-widgets/controls",
          "model_name": "ProgressStyleModel",
          "model_module_version": "1.5.0",
          "state": {
            "_model_module": "@jupyter-widgets/controls",
            "_model_module_version": "1.5.0",
            "_model_name": "ProgressStyleModel",
            "_view_count": null,
            "_view_module": "@jupyter-widgets/base",
            "_view_module_version": "1.2.0",
            "_view_name": "StyleView",
            "bar_color": null,
            "description_width": ""
          }
        },
        "b39f676c1d9d43b69f982b77a3b273d0": {
          "model_module": "@jupyter-widgets/base",
          "model_name": "LayoutModel",
          "model_module_version": "1.2.0",
          "state": {
            "_model_module": "@jupyter-widgets/base",
            "_model_module_version": "1.2.0",
            "_model_name": "LayoutModel",
            "_view_count": null,
            "_view_module": "@jupyter-widgets/base",
            "_view_module_version": "1.2.0",
            "_view_name": "LayoutView",
            "align_content": null,
            "align_items": null,
            "align_self": null,
            "border": null,
            "bottom": null,
            "display": null,
            "flex": null,
            "flex_flow": null,
            "grid_area": null,
            "grid_auto_columns": null,
            "grid_auto_flow": null,
            "grid_auto_rows": null,
            "grid_column": null,
            "grid_gap": null,
            "grid_row": null,
            "grid_template_areas": null,
            "grid_template_columns": null,
            "grid_template_rows": null,
            "height": null,
            "justify_content": null,
            "justify_items": null,
            "left": null,
            "margin": null,
            "max_height": null,
            "max_width": null,
            "min_height": null,
            "min_width": null,
            "object_fit": null,
            "object_position": null,
            "order": null,
            "overflow": null,
            "overflow_x": null,
            "overflow_y": null,
            "padding": null,
            "right": null,
            "top": null,
            "visibility": null,
            "width": null
          }
        },
        "21a07568fb874fc7a3e1ee77759ffd91": {
          "model_module": "@jupyter-widgets/controls",
          "model_name": "DescriptionStyleModel",
          "model_module_version": "1.5.0",
          "state": {
            "_model_module": "@jupyter-widgets/controls",
            "_model_module_version": "1.5.0",
            "_model_name": "DescriptionStyleModel",
            "_view_count": null,
            "_view_module": "@jupyter-widgets/base",
            "_view_module_version": "1.2.0",
            "_view_name": "StyleView",
            "description_width": ""
          }
        },
        "b8957d8a287c4c2d8c7a961763f5998a": {
          "model_module": "@jupyter-widgets/controls",
          "model_name": "HBoxModel",
          "model_module_version": "1.5.0",
          "state": {
            "_dom_classes": [],
            "_model_module": "@jupyter-widgets/controls",
            "_model_module_version": "1.5.0",
            "_model_name": "HBoxModel",
            "_view_count": null,
            "_view_module": "@jupyter-widgets/controls",
            "_view_module_version": "1.5.0",
            "_view_name": "HBoxView",
            "box_style": "",
            "children": [
              "IPY_MODEL_df68ab3daf94431ab31b1e507a8eba6e",
              "IPY_MODEL_e0594f1acdbe4677afb23ae6fe37b228",
              "IPY_MODEL_ee2310db6c294620929ed838fc6ec8b7"
            ],
            "layout": "IPY_MODEL_1cb14ef1b7d94635b9e1e24860559ded"
          }
        },
        "df68ab3daf94431ab31b1e507a8eba6e": {
          "model_module": "@jupyter-widgets/controls",
          "model_name": "HTMLModel",
          "model_module_version": "1.5.0",
          "state": {
            "_dom_classes": [],
            "_model_module": "@jupyter-widgets/controls",
            "_model_module_version": "1.5.0",
            "_model_name": "HTMLModel",
            "_view_count": null,
            "_view_module": "@jupyter-widgets/controls",
            "_view_module_version": "1.5.0",
            "_view_name": "HTMLView",
            "description": "",
            "description_tooltip": null,
            "layout": "IPY_MODEL_e2810d76c3034792972ddcc6d25350d0",
            "placeholder": "​",
            "style": "IPY_MODEL_b21e3109fd11409795e8103fb97d0e83",
            "value": "Map: 100%"
          }
        },
        "e0594f1acdbe4677afb23ae6fe37b228": {
          "model_module": "@jupyter-widgets/controls",
          "model_name": "FloatProgressModel",
          "model_module_version": "1.5.0",
          "state": {
            "_dom_classes": [],
            "_model_module": "@jupyter-widgets/controls",
            "_model_module_version": "1.5.0",
            "_model_name": "FloatProgressModel",
            "_view_count": null,
            "_view_module": "@jupyter-widgets/controls",
            "_view_module_version": "1.5.0",
            "_view_name": "ProgressView",
            "bar_style": "success",
            "description": "",
            "description_tooltip": null,
            "layout": "IPY_MODEL_37b83d68735b49dcb0b9cde812996952",
            "max": 9815,
            "min": 0,
            "orientation": "horizontal",
            "style": "IPY_MODEL_8bc8590d7d58460d8304772e4bb370ac",
            "value": 9815
          }
        },
        "ee2310db6c294620929ed838fc6ec8b7": {
          "model_module": "@jupyter-widgets/controls",
          "model_name": "HTMLModel",
          "model_module_version": "1.5.0",
          "state": {
            "_dom_classes": [],
            "_model_module": "@jupyter-widgets/controls",
            "_model_module_version": "1.5.0",
            "_model_name": "HTMLModel",
            "_view_count": null,
            "_view_module": "@jupyter-widgets/controls",
            "_view_module_version": "1.5.0",
            "_view_name": "HTMLView",
            "description": "",
            "description_tooltip": null,
            "layout": "IPY_MODEL_ddc779e3b1cd4840ba590408fdc716c4",
            "placeholder": "​",
            "style": "IPY_MODEL_ec5f03c5aa164259b4998f7d6fab0fb5",
            "value": " 9815/9815 [00:00&lt;00:00, 25147.49 examples/s]"
          }
        },
        "1cb14ef1b7d94635b9e1e24860559ded": {
          "model_module": "@jupyter-widgets/base",
          "model_name": "LayoutModel",
          "model_module_version": "1.2.0",
          "state": {
            "_model_module": "@jupyter-widgets/base",
            "_model_module_version": "1.2.0",
            "_model_name": "LayoutModel",
            "_view_count": null,
            "_view_module": "@jupyter-widgets/base",
            "_view_module_version": "1.2.0",
            "_view_name": "LayoutView",
            "align_content": null,
            "align_items": null,
            "align_self": null,
            "border": null,
            "bottom": null,
            "display": null,
            "flex": null,
            "flex_flow": null,
            "grid_area": null,
            "grid_auto_columns": null,
            "grid_auto_flow": null,
            "grid_auto_rows": null,
            "grid_column": null,
            "grid_gap": null,
            "grid_row": null,
            "grid_template_areas": null,
            "grid_template_columns": null,
            "grid_template_rows": null,
            "height": null,
            "justify_content": null,
            "justify_items": null,
            "left": null,
            "margin": null,
            "max_height": null,
            "max_width": null,
            "min_height": null,
            "min_width": null,
            "object_fit": null,
            "object_position": null,
            "order": null,
            "overflow": null,
            "overflow_x": null,
            "overflow_y": null,
            "padding": null,
            "right": null,
            "top": null,
            "visibility": null,
            "width": null
          }
        },
        "e2810d76c3034792972ddcc6d25350d0": {
          "model_module": "@jupyter-widgets/base",
          "model_name": "LayoutModel",
          "model_module_version": "1.2.0",
          "state": {
            "_model_module": "@jupyter-widgets/base",
            "_model_module_version": "1.2.0",
            "_model_name": "LayoutModel",
            "_view_count": null,
            "_view_module": "@jupyter-widgets/base",
            "_view_module_version": "1.2.0",
            "_view_name": "LayoutView",
            "align_content": null,
            "align_items": null,
            "align_self": null,
            "border": null,
            "bottom": null,
            "display": null,
            "flex": null,
            "flex_flow": null,
            "grid_area": null,
            "grid_auto_columns": null,
            "grid_auto_flow": null,
            "grid_auto_rows": null,
            "grid_column": null,
            "grid_gap": null,
            "grid_row": null,
            "grid_template_areas": null,
            "grid_template_columns": null,
            "grid_template_rows": null,
            "height": null,
            "justify_content": null,
            "justify_items": null,
            "left": null,
            "margin": null,
            "max_height": null,
            "max_width": null,
            "min_height": null,
            "min_width": null,
            "object_fit": null,
            "object_position": null,
            "order": null,
            "overflow": null,
            "overflow_x": null,
            "overflow_y": null,
            "padding": null,
            "right": null,
            "top": null,
            "visibility": null,
            "width": null
          }
        },
        "b21e3109fd11409795e8103fb97d0e83": {
          "model_module": "@jupyter-widgets/controls",
          "model_name": "DescriptionStyleModel",
          "model_module_version": "1.5.0",
          "state": {
            "_model_module": "@jupyter-widgets/controls",
            "_model_module_version": "1.5.0",
            "_model_name": "DescriptionStyleModel",
            "_view_count": null,
            "_view_module": "@jupyter-widgets/base",
            "_view_module_version": "1.2.0",
            "_view_name": "StyleView",
            "description_width": ""
          }
        },
        "37b83d68735b49dcb0b9cde812996952": {
          "model_module": "@jupyter-widgets/base",
          "model_name": "LayoutModel",
          "model_module_version": "1.2.0",
          "state": {
            "_model_module": "@jupyter-widgets/base",
            "_model_module_version": "1.2.0",
            "_model_name": "LayoutModel",
            "_view_count": null,
            "_view_module": "@jupyter-widgets/base",
            "_view_module_version": "1.2.0",
            "_view_name": "LayoutView",
            "align_content": null,
            "align_items": null,
            "align_self": null,
            "border": null,
            "bottom": null,
            "display": null,
            "flex": null,
            "flex_flow": null,
            "grid_area": null,
            "grid_auto_columns": null,
            "grid_auto_flow": null,
            "grid_auto_rows": null,
            "grid_column": null,
            "grid_gap": null,
            "grid_row": null,
            "grid_template_areas": null,
            "grid_template_columns": null,
            "grid_template_rows": null,
            "height": null,
            "justify_content": null,
            "justify_items": null,
            "left": null,
            "margin": null,
            "max_height": null,
            "max_width": null,
            "min_height": null,
            "min_width": null,
            "object_fit": null,
            "object_position": null,
            "order": null,
            "overflow": null,
            "overflow_x": null,
            "overflow_y": null,
            "padding": null,
            "right": null,
            "top": null,
            "visibility": null,
            "width": null
          }
        },
        "8bc8590d7d58460d8304772e4bb370ac": {
          "model_module": "@jupyter-widgets/controls",
          "model_name": "ProgressStyleModel",
          "model_module_version": "1.5.0",
          "state": {
            "_model_module": "@jupyter-widgets/controls",
            "_model_module_version": "1.5.0",
            "_model_name": "ProgressStyleModel",
            "_view_count": null,
            "_view_module": "@jupyter-widgets/base",
            "_view_module_version": "1.2.0",
            "_view_name": "StyleView",
            "bar_color": null,
            "description_width": ""
          }
        },
        "ddc779e3b1cd4840ba590408fdc716c4": {
          "model_module": "@jupyter-widgets/base",
          "model_name": "LayoutModel",
          "model_module_version": "1.2.0",
          "state": {
            "_model_module": "@jupyter-widgets/base",
            "_model_module_version": "1.2.0",
            "_model_name": "LayoutModel",
            "_view_count": null,
            "_view_module": "@jupyter-widgets/base",
            "_view_module_version": "1.2.0",
            "_view_name": "LayoutView",
            "align_content": null,
            "align_items": null,
            "align_self": null,
            "border": null,
            "bottom": null,
            "display": null,
            "flex": null,
            "flex_flow": null,
            "grid_area": null,
            "grid_auto_columns": null,
            "grid_auto_flow": null,
            "grid_auto_rows": null,
            "grid_column": null,
            "grid_gap": null,
            "grid_row": null,
            "grid_template_areas": null,
            "grid_template_columns": null,
            "grid_template_rows": null,
            "height": null,
            "justify_content": null,
            "justify_items": null,
            "left": null,
            "margin": null,
            "max_height": null,
            "max_width": null,
            "min_height": null,
            "min_width": null,
            "object_fit": null,
            "object_position": null,
            "order": null,
            "overflow": null,
            "overflow_x": null,
            "overflow_y": null,
            "padding": null,
            "right": null,
            "top": null,
            "visibility": null,
            "width": null
          }
        },
        "ec5f03c5aa164259b4998f7d6fab0fb5": {
          "model_module": "@jupyter-widgets/controls",
          "model_name": "DescriptionStyleModel",
          "model_module_version": "1.5.0",
          "state": {
            "_model_module": "@jupyter-widgets/controls",
            "_model_module_version": "1.5.0",
            "_model_name": "DescriptionStyleModel",
            "_view_count": null,
            "_view_module": "@jupyter-widgets/base",
            "_view_module_version": "1.2.0",
            "_view_name": "StyleView",
            "description_width": ""
          }
        },
        "4486b5d3fb1b4893b7ea046955a3ec70": {
          "model_module": "@jupyter-widgets/controls",
          "model_name": "HBoxModel",
          "model_module_version": "1.5.0",
          "state": {
            "_dom_classes": [],
            "_model_module": "@jupyter-widgets/controls",
            "_model_module_version": "1.5.0",
            "_model_name": "HBoxModel",
            "_view_count": null,
            "_view_module": "@jupyter-widgets/controls",
            "_view_module_version": "1.5.0",
            "_view_name": "HBoxView",
            "box_style": "",
            "children": [
              "IPY_MODEL_9cd825b547b74866bb8e68ac72849c7c",
              "IPY_MODEL_470eba412a554f1f98da0ebb1c7b8d21",
              "IPY_MODEL_0c1f3bfb1d9c41f78a1eaa61df89fe8c"
            ],
            "layout": "IPY_MODEL_821eb312b132416696369a5ac6e26b35"
          }
        },
        "9cd825b547b74866bb8e68ac72849c7c": {
          "model_module": "@jupyter-widgets/controls",
          "model_name": "HTMLModel",
          "model_module_version": "1.5.0",
          "state": {
            "_dom_classes": [],
            "_model_module": "@jupyter-widgets/controls",
            "_model_module_version": "1.5.0",
            "_model_name": "HTMLModel",
            "_view_count": null,
            "_view_module": "@jupyter-widgets/controls",
            "_view_module_version": "1.5.0",
            "_view_name": "HTMLView",
            "description": "",
            "description_tooltip": null,
            "layout": "IPY_MODEL_072932b6a3aa478b87ffd62e32087302",
            "placeholder": "​",
            "style": "IPY_MODEL_61ec9f830fe44a71b803781e8c439857",
            "value": "Filter: 100%"
          }
        },
        "470eba412a554f1f98da0ebb1c7b8d21": {
          "model_module": "@jupyter-widgets/controls",
          "model_name": "FloatProgressModel",
          "model_module_version": "1.5.0",
          "state": {
            "_dom_classes": [],
            "_model_module": "@jupyter-widgets/controls",
            "_model_module_version": "1.5.0",
            "_model_name": "FloatProgressModel",
            "_view_count": null,
            "_view_module": "@jupyter-widgets/controls",
            "_view_module_version": "1.5.0",
            "_view_name": "ProgressView",
            "bar_style": "success",
            "description": "",
            "description_tooltip": null,
            "layout": "IPY_MODEL_cc406cc0cad749a0ae95f479303a64ec",
            "max": 9815,
            "min": 0,
            "orientation": "horizontal",
            "style": "IPY_MODEL_ac4f8d55b64b41e884ab14965a745319",
            "value": 9815
          }
        },
        "0c1f3bfb1d9c41f78a1eaa61df89fe8c": {
          "model_module": "@jupyter-widgets/controls",
          "model_name": "HTMLModel",
          "model_module_version": "1.5.0",
          "state": {
            "_dom_classes": [],
            "_model_module": "@jupyter-widgets/controls",
            "_model_module_version": "1.5.0",
            "_model_name": "HTMLModel",
            "_view_count": null,
            "_view_module": "@jupyter-widgets/controls",
            "_view_module_version": "1.5.0",
            "_view_name": "HTMLView",
            "description": "",
            "description_tooltip": null,
            "layout": "IPY_MODEL_e832c57394e84093b1b5b369c88752f6",
            "placeholder": "​",
            "style": "IPY_MODEL_917492663e334f21bfaf4b08175573f9",
            "value": " 9815/9815 [00:00&lt;00:00, 25698.96 examples/s]"
          }
        },
        "821eb312b132416696369a5ac6e26b35": {
          "model_module": "@jupyter-widgets/base",
          "model_name": "LayoutModel",
          "model_module_version": "1.2.0",
          "state": {
            "_model_module": "@jupyter-widgets/base",
            "_model_module_version": "1.2.0",
            "_model_name": "LayoutModel",
            "_view_count": null,
            "_view_module": "@jupyter-widgets/base",
            "_view_module_version": "1.2.0",
            "_view_name": "LayoutView",
            "align_content": null,
            "align_items": null,
            "align_self": null,
            "border": null,
            "bottom": null,
            "display": null,
            "flex": null,
            "flex_flow": null,
            "grid_area": null,
            "grid_auto_columns": null,
            "grid_auto_flow": null,
            "grid_auto_rows": null,
            "grid_column": null,
            "grid_gap": null,
            "grid_row": null,
            "grid_template_areas": null,
            "grid_template_columns": null,
            "grid_template_rows": null,
            "height": null,
            "justify_content": null,
            "justify_items": null,
            "left": null,
            "margin": null,
            "max_height": null,
            "max_width": null,
            "min_height": null,
            "min_width": null,
            "object_fit": null,
            "object_position": null,
            "order": null,
            "overflow": null,
            "overflow_x": null,
            "overflow_y": null,
            "padding": null,
            "right": null,
            "top": null,
            "visibility": null,
            "width": null
          }
        },
        "072932b6a3aa478b87ffd62e32087302": {
          "model_module": "@jupyter-widgets/base",
          "model_name": "LayoutModel",
          "model_module_version": "1.2.0",
          "state": {
            "_model_module": "@jupyter-widgets/base",
            "_model_module_version": "1.2.0",
            "_model_name": "LayoutModel",
            "_view_count": null,
            "_view_module": "@jupyter-widgets/base",
            "_view_module_version": "1.2.0",
            "_view_name": "LayoutView",
            "align_content": null,
            "align_items": null,
            "align_self": null,
            "border": null,
            "bottom": null,
            "display": null,
            "flex": null,
            "flex_flow": null,
            "grid_area": null,
            "grid_auto_columns": null,
            "grid_auto_flow": null,
            "grid_auto_rows": null,
            "grid_column": null,
            "grid_gap": null,
            "grid_row": null,
            "grid_template_areas": null,
            "grid_template_columns": null,
            "grid_template_rows": null,
            "height": null,
            "justify_content": null,
            "justify_items": null,
            "left": null,
            "margin": null,
            "max_height": null,
            "max_width": null,
            "min_height": null,
            "min_width": null,
            "object_fit": null,
            "object_position": null,
            "order": null,
            "overflow": null,
            "overflow_x": null,
            "overflow_y": null,
            "padding": null,
            "right": null,
            "top": null,
            "visibility": null,
            "width": null
          }
        },
        "61ec9f830fe44a71b803781e8c439857": {
          "model_module": "@jupyter-widgets/controls",
          "model_name": "DescriptionStyleModel",
          "model_module_version": "1.5.0",
          "state": {
            "_model_module": "@jupyter-widgets/controls",
            "_model_module_version": "1.5.0",
            "_model_name": "DescriptionStyleModel",
            "_view_count": null,
            "_view_module": "@jupyter-widgets/base",
            "_view_module_version": "1.2.0",
            "_view_name": "StyleView",
            "description_width": ""
          }
        },
        "cc406cc0cad749a0ae95f479303a64ec": {
          "model_module": "@jupyter-widgets/base",
          "model_name": "LayoutModel",
          "model_module_version": "1.2.0",
          "state": {
            "_model_module": "@jupyter-widgets/base",
            "_model_module_version": "1.2.0",
            "_model_name": "LayoutModel",
            "_view_count": null,
            "_view_module": "@jupyter-widgets/base",
            "_view_module_version": "1.2.0",
            "_view_name": "LayoutView",
            "align_content": null,
            "align_items": null,
            "align_self": null,
            "border": null,
            "bottom": null,
            "display": null,
            "flex": null,
            "flex_flow": null,
            "grid_area": null,
            "grid_auto_columns": null,
            "grid_auto_flow": null,
            "grid_auto_rows": null,
            "grid_column": null,
            "grid_gap": null,
            "grid_row": null,
            "grid_template_areas": null,
            "grid_template_columns": null,
            "grid_template_rows": null,
            "height": null,
            "justify_content": null,
            "justify_items": null,
            "left": null,
            "margin": null,
            "max_height": null,
            "max_width": null,
            "min_height": null,
            "min_width": null,
            "object_fit": null,
            "object_position": null,
            "order": null,
            "overflow": null,
            "overflow_x": null,
            "overflow_y": null,
            "padding": null,
            "right": null,
            "top": null,
            "visibility": null,
            "width": null
          }
        },
        "ac4f8d55b64b41e884ab14965a745319": {
          "model_module": "@jupyter-widgets/controls",
          "model_name": "ProgressStyleModel",
          "model_module_version": "1.5.0",
          "state": {
            "_model_module": "@jupyter-widgets/controls",
            "_model_module_version": "1.5.0",
            "_model_name": "ProgressStyleModel",
            "_view_count": null,
            "_view_module": "@jupyter-widgets/base",
            "_view_module_version": "1.2.0",
            "_view_name": "StyleView",
            "bar_color": null,
            "description_width": ""
          }
        },
        "e832c57394e84093b1b5b369c88752f6": {
          "model_module": "@jupyter-widgets/base",
          "model_name": "LayoutModel",
          "model_module_version": "1.2.0",
          "state": {
            "_model_module": "@jupyter-widgets/base",
            "_model_module_version": "1.2.0",
            "_model_name": "LayoutModel",
            "_view_count": null,
            "_view_module": "@jupyter-widgets/base",
            "_view_module_version": "1.2.0",
            "_view_name": "LayoutView",
            "align_content": null,
            "align_items": null,
            "align_self": null,
            "border": null,
            "bottom": null,
            "display": null,
            "flex": null,
            "flex_flow": null,
            "grid_area": null,
            "grid_auto_columns": null,
            "grid_auto_flow": null,
            "grid_auto_rows": null,
            "grid_column": null,
            "grid_gap": null,
            "grid_row": null,
            "grid_template_areas": null,
            "grid_template_columns": null,
            "grid_template_rows": null,
            "height": null,
            "justify_content": null,
            "justify_items": null,
            "left": null,
            "margin": null,
            "max_height": null,
            "max_width": null,
            "min_height": null,
            "min_width": null,
            "object_fit": null,
            "object_position": null,
            "order": null,
            "overflow": null,
            "overflow_x": null,
            "overflow_y": null,
            "padding": null,
            "right": null,
            "top": null,
            "visibility": null,
            "width": null
          }
        },
        "917492663e334f21bfaf4b08175573f9": {
          "model_module": "@jupyter-widgets/controls",
          "model_name": "DescriptionStyleModel",
          "model_module_version": "1.5.0",
          "state": {
            "_model_module": "@jupyter-widgets/controls",
            "_model_module_version": "1.5.0",
            "_model_name": "DescriptionStyleModel",
            "_view_count": null,
            "_view_module": "@jupyter-widgets/base",
            "_view_module_version": "1.2.0",
            "_view_name": "StyleView",
            "description_width": ""
          }
        }
      }
    }
  },
  "cells": [
    {
      "cell_type": "markdown",
      "source": [
        "If you wish to use Drive functionalities, please make sure Drive is mounted. Click *Mount Drive* under Files in the left-side menu, or run the following cell."
      ],
      "metadata": {
        "id": "N6ByPDuulXw-"
      }
    },
    {
      "cell_type": "code",
      "source": [
        "from google.colab import drive\n",
        "drive.mount('/content/drive')"
      ],
      "metadata": {
        "id": "tv8jjDLelszV"
      },
      "execution_count": null,
      "outputs": []
    },
    {
      "cell_type": "markdown",
      "source": [
        "# Libraries, classes and functions"
      ],
      "metadata": {
        "id": "9OKDkXBbvwQi"
      }
    },
    {
      "cell_type": "markdown",
      "metadata": {
        "id": "iL4mn9Mq_EZt"
      },
      "source": [
        "## Libraries"
      ]
    },
    {
      "cell_type": "code",
      "execution_count": null,
      "metadata": {
        "id": "7YZf2k9twql9",
        "colab": {
          "base_uri": "https://localhost:8080/"
        },
        "outputId": "11980d48-085f-4787-daef-52eb8784a218"
      },
      "outputs": [
        {
          "output_type": "stream",
          "name": "stdout",
          "text": [
            "Installing datasets\n",
            "Collecting datasets\n",
            "  Downloading datasets-2.16.1-py3-none-any.whl (507 kB)\n",
            "\u001b[2K     \u001b[90m━━━━━━━━━━━━━━━━━━━━━━━━━━━━━━━━━━━━━━━━\u001b[0m \u001b[32m507.1/507.1 kB\u001b[0m \u001b[31m13.1 MB/s\u001b[0m eta \u001b[36m0:00:00\u001b[0m\n",
            "\u001b[?25hRequirement already satisfied: filelock in /usr/local/lib/python3.10/dist-packages (from datasets) (3.13.1)\n",
            "Requirement already satisfied: numpy>=1.17 in /usr/local/lib/python3.10/dist-packages (from datasets) (1.23.5)\n",
            "Requirement already satisfied: pyarrow>=8.0.0 in /usr/local/lib/python3.10/dist-packages (from datasets) (10.0.1)\n",
            "Requirement already satisfied: pyarrow-hotfix in /usr/local/lib/python3.10/dist-packages (from datasets) (0.6)\n",
            "Collecting dill<0.3.8,>=0.3.0 (from datasets)\n",
            "  Downloading dill-0.3.7-py3-none-any.whl (115 kB)\n",
            "\u001b[2K     \u001b[90m━━━━━━━━━━━━━━━━━━━━━━━━━━━━━━━━━━━━━━━━\u001b[0m \u001b[32m115.3/115.3 kB\u001b[0m \u001b[31m19.2 MB/s\u001b[0m eta \u001b[36m0:00:00\u001b[0m\n",
            "\u001b[?25hRequirement already satisfied: pandas in /usr/local/lib/python3.10/dist-packages (from datasets) (1.5.3)\n",
            "Requirement already satisfied: requests>=2.19.0 in /usr/local/lib/python3.10/dist-packages (from datasets) (2.31.0)\n",
            "Requirement already satisfied: tqdm>=4.62.1 in /usr/local/lib/python3.10/dist-packages (from datasets) (4.66.1)\n",
            "Requirement already satisfied: xxhash in /usr/local/lib/python3.10/dist-packages (from datasets) (3.4.1)\n",
            "Collecting multiprocess (from datasets)\n",
            "  Downloading multiprocess-0.70.16-py310-none-any.whl (134 kB)\n",
            "\u001b[2K     \u001b[90m━━━━━━━━━━━━━━━━━━━━━━━━━━━━━━━━━━━━━━━━\u001b[0m \u001b[32m134.8/134.8 kB\u001b[0m \u001b[31m21.5 MB/s\u001b[0m eta \u001b[36m0:00:00\u001b[0m\n",
            "\u001b[?25hRequirement already satisfied: fsspec[http]<=2023.10.0,>=2023.1.0 in /usr/local/lib/python3.10/dist-packages (from datasets) (2023.6.0)\n",
            "Requirement already satisfied: aiohttp in /usr/local/lib/python3.10/dist-packages (from datasets) (3.9.3)\n",
            "Requirement already satisfied: huggingface-hub>=0.19.4 in /usr/local/lib/python3.10/dist-packages (from datasets) (0.20.3)\n",
            "Requirement already satisfied: packaging in /usr/local/lib/python3.10/dist-packages (from datasets) (23.2)\n",
            "Requirement already satisfied: pyyaml>=5.1 in /usr/local/lib/python3.10/dist-packages (from datasets) (6.0.1)\n",
            "Requirement already satisfied: aiosignal>=1.1.2 in /usr/local/lib/python3.10/dist-packages (from aiohttp->datasets) (1.3.1)\n",
            "Requirement already satisfied: attrs>=17.3.0 in /usr/local/lib/python3.10/dist-packages (from aiohttp->datasets) (23.2.0)\n",
            "Requirement already satisfied: frozenlist>=1.1.1 in /usr/local/lib/python3.10/dist-packages (from aiohttp->datasets) (1.4.1)\n",
            "Requirement already satisfied: multidict<7.0,>=4.5 in /usr/local/lib/python3.10/dist-packages (from aiohttp->datasets) (6.0.4)\n",
            "Requirement already satisfied: yarl<2.0,>=1.0 in /usr/local/lib/python3.10/dist-packages (from aiohttp->datasets) (1.9.4)\n",
            "Requirement already satisfied: async-timeout<5.0,>=4.0 in /usr/local/lib/python3.10/dist-packages (from aiohttp->datasets) (4.0.3)\n",
            "Requirement already satisfied: typing-extensions>=3.7.4.3 in /usr/local/lib/python3.10/dist-packages (from huggingface-hub>=0.19.4->datasets) (4.5.0)\n",
            "Requirement already satisfied: charset-normalizer<4,>=2 in /usr/local/lib/python3.10/dist-packages (from requests>=2.19.0->datasets) (3.3.2)\n",
            "Requirement already satisfied: idna<4,>=2.5 in /usr/local/lib/python3.10/dist-packages (from requests>=2.19.0->datasets) (3.6)\n",
            "Requirement already satisfied: urllib3<3,>=1.21.1 in /usr/local/lib/python3.10/dist-packages (from requests>=2.19.0->datasets) (2.0.7)\n",
            "Requirement already satisfied: certifi>=2017.4.17 in /usr/local/lib/python3.10/dist-packages (from requests>=2.19.0->datasets) (2023.11.17)\n",
            "INFO: pip is looking at multiple versions of multiprocess to determine which version is compatible with other requirements. This could take a while.\n",
            "  Downloading multiprocess-0.70.15-py310-none-any.whl (134 kB)\n",
            "\u001b[2K     \u001b[90m━━━━━━━━━━━━━━━━━━━━━━━━━━━━━━━━━━━━━━━━\u001b[0m \u001b[32m134.8/134.8 kB\u001b[0m \u001b[31m20.5 MB/s\u001b[0m eta \u001b[36m0:00:00\u001b[0m\n",
            "\u001b[?25hRequirement already satisfied: python-dateutil>=2.8.1 in /usr/local/lib/python3.10/dist-packages (from pandas->datasets) (2.8.2)\n",
            "Requirement already satisfied: pytz>=2020.1 in /usr/local/lib/python3.10/dist-packages (from pandas->datasets) (2023.4)\n",
            "Requirement already satisfied: six>=1.5 in /usr/local/lib/python3.10/dist-packages (from python-dateutil>=2.8.1->pandas->datasets) (1.16.0)\n",
            "Installing collected packages: dill, multiprocess, datasets\n",
            "Successfully installed datasets-2.16.1 dill-0.3.7 multiprocess-0.70.15\n"
          ]
        }
      ],
      "source": [
        "try:\n",
        " import transformers\n",
        "except:\n",
        " print(\"Installing transformers\")\n",
        " !pip3 install transformers\n",
        "\n",
        "try:\n",
        "  import datasets\n",
        "except:\n",
        "  print(\"Installing datasets\")\n",
        "  !pip3  install datasets\n",
        "\n",
        "\n",
        "#try:\n",
        "#  import evaluate\n",
        "#except:\n",
        "#  print(\"Installing evaluate\")\n",
        "#  !pip3 -q install evaluate"
      ]
    },
    {
      "cell_type": "code",
      "execution_count": null,
      "metadata": {
        "id": "3_oMAjHXwvlC"
      },
      "outputs": [],
      "source": [
        "#System\n",
        "import io\n",
        "import os.path\n",
        "\n",
        "os.environ['CUDA_LAUNCH_BLOCKING'] = \"1\"\n",
        "\n",
        "#Hugging Face\n",
        "from transformers import AutoTokenizer, DataCollatorWithPadding#, Trainer, TrainingArguments\n",
        "from transformers import AutoModelForSequenceClassification\n",
        "from transformers import get_scheduler, set_seed\n",
        "from transformers import logging\n",
        "#from transformers import Trainer, TrainingArguments\n",
        "logging.set_verbosity_error()\n",
        "from datasets import Dataset, load_dataset, load_metric, load_from_disk\n",
        "from datasets import interleave_datasets, concatenate_datasets\n",
        "\n",
        "\n",
        "#Torch\n",
        "import torch\n",
        "import torch.nn as nn\n",
        "from torch.utils.data import DataLoader\n",
        "from torch.cuda.amp import GradScaler\n",
        "from torch.optim import AdamW\n",
        "from torch.optim.lr_scheduler import LinearLR\n",
        "from torch import autocast\n",
        "\n",
        "#Data structures\n",
        "import numpy as np\n",
        "import pandas as pd\n",
        "from pandas import read_pickle\n",
        "\n",
        "#Math functions\n",
        "import random\n",
        "from math import ceil\n",
        "\n",
        "#Loading bars\n",
        "from tqdm.auto import tqdm\n",
        "\n",
        "#Plotting\n",
        "import matplotlib.pyplot as plt"
      ]
    },
    {
      "cell_type": "code",
      "source": [
        "#Custom Evaluate class provided by Yupei Du. Modified by Pim Versteeg.\n",
        "#Replaces the evaluate library due to problems with it.\n",
        "\n",
        "from sklearn.metrics import accuracy_score, f1_score\n",
        "\n",
        "class Evaluate:\n",
        "\n",
        "    def __init__(self, metric_name):\n",
        "        r\"\"\"https://towardsdatascience.com/micro-macro-weighted-averages-of-f1-score-clearly-explained-b603420b292f#e273\"\"\"\n",
        "        self.metric_name = metric_name\n",
        "        self.predictions = None\n",
        "        self.references = None\n",
        "\n",
        "    def add_batch(self, predictions, references):\n",
        "        predictions = predictions.detach().cpu()\n",
        "        references = references.detach().cpu()\n",
        "        self.predictions = predictions if self.predictions is None \\\n",
        "            else torch.cat([self.predictions, predictions], dim=0)\n",
        "        self.references = references if self.references is None else torch.cat([self.references, references], dim=0)\n",
        "\n",
        "    @staticmethod\n",
        "    def _keep_three_digits(number):\n",
        "        return float('{:.3f}'.format(number))\n",
        "\n",
        "    def compute(self, average='macro'):\n",
        "        if self.metric_name == 'accuracy':\n",
        "            return {'accuracy': self._keep_three_digits(accuracy_score(self.references, self.predictions))}\n",
        "        elif self.metric_name == 'f1':\n",
        "            return {'f1': self._keep_four_digits(f1_score(self.references, self.predictions, average=average))}\n",
        "\n",
        "\n",
        "def load(metric_name):\n",
        "    if metric_name in ['accuracy', 'f1']:\n",
        "        return Evaluate(metric_name)\n",
        "    else:\n",
        "        raise ValueError(f'Unknown metric name {metric_name}')"
      ],
      "metadata": {
        "id": "w6IyPdPG3ACL"
      },
      "execution_count": null,
      "outputs": []
    },
    {
      "cell_type": "markdown",
      "metadata": {
        "id": "a9mJZ3VH_QFX"
      },
      "source": [
        "## Preprocessing"
      ]
    },
    {
      "cell_type": "markdown",
      "source": [
        "Functions for preprocessing:\n",
        "\n",
        "1. `load_data` loads a `GLUE` dataset. If `size=full` or is unspecified, it returns the full data set. `size=int` trims the `train` partition to the length of that integer.\n",
        "2. `select_baseline` takes a dataset and returns a random subset to the data of size `fraction * len(dataset)`. If `criterium` is not `None`, select according to criterium. Eg: `fraction=0.33` and `criterium=hard` returns the hardest 33% of the data.\n",
        "3. `select_criterium` is a helper function for `select_baseline` and should not be called directly.\n",
        "3. `data_cleaner` converts a dataset to the correct format for training.\n",
        "4. `normalize_probs` takes a 2D-array (list of lists) and for each row normalizes the values to sum to 1.\n",
        "5. `find_max_token_length` takes a dataset and returns the max token length. Works on split(`train`,`validation`,`test` etc) datasets."
      ],
      "metadata": {
        "id": "XRzAG7qsMKag"
      }
    },
    {
      "cell_type": "code",
      "execution_count": null,
      "metadata": {
        "id": "ninVzsGXB0k0"
      },
      "outputs": [],
      "source": [
        "def load_data(load_path, size='full'):\n",
        "  if type(load_path) is tuple:\n",
        "    #For GLUE datasets\n",
        "    raw_data = load_dataset(load_path[0],load_path[1])\n",
        "  else:\n",
        "    #For non-GLUE datasets\n",
        "    raw_data = load_dataset(load_path)\n",
        "  if size != 'full':\n",
        "    raw_data[\"train\"]= raw_data[\"train\"].select(range(size))\n",
        "  return raw_data\n",
        "\n",
        "\n",
        "def select_baseline(data, fraction, seed, criterium):\n",
        "  if criterium==None:\n",
        "    return data.select(range(int(fraction*len(data))))\n",
        "  else:\n",
        "    return select_criterium(data, scores, fraction, criterium)\n",
        "\n",
        "\n",
        "def select_criterium(data, scores, fraction, criterium):\n",
        "  #ambiguous_scores: variability        -> higher variability = more ambiguous\n",
        "  #hard_scores: confidence but negative -> closer to zero = higher = lower confidence = harder.\n",
        "  ambiguous_scores, hard_scores = scores\n",
        "  scores = ambiguous_scores if criterium=='ambiguous' else hard_scores\n",
        "  data_w_scores = data.add_column(name='scores', column=scores.tolist())\n",
        "\n",
        "  desc = criterium in ['hard','ambiguous']\n",
        "  sorted_data = data_w_scores.sort(['scores'], reverse=desc)\n",
        "  sorted_data = sorted_data.remove_columns('scores')\n",
        "  return sorted_data.select(range(int(fraction*len(data)))).shuffle()\n",
        "\n",
        "\n",
        "def data_cleaner(data):\n",
        "  data = data.remove_columns([data_args['str_name_1'], data_args['str_name_2'],\"idx\"])\n",
        "  data = data.rename_column(\"label\", \"labels\")\n",
        "  data = data.filter(lambda x: x['labels'] in [0,1,2])\n",
        "  data.set_format(\"torch\")\n",
        "  return data\n",
        "\n",
        "def data_cleaner_ood(data):\n",
        "  data = data['test']\n",
        "  data = data.remove_columns(list(data.features.keys())[:-3])\n",
        "  data = data.rename_column('label', 'labels')\n",
        "  data.set_format('torch')\n",
        "  return data\n",
        "\n",
        "\n",
        "\n",
        "def normalize_probs(arr):\n",
        "  for i in range(len(arr)):\n",
        "    arr[i] = [x/sum(arr[i]) for x in arr[i]]\n",
        "  return arr\n",
        "\n",
        "\n",
        "def find_max_token_length(data):\n",
        "  total_max = 0\n",
        "  for k in tokenized_data.keys():\n",
        "    longest = max(tokenized_data[k]['input_ids'], key=len)\n",
        "    max = len(longest)\n",
        "    if max > total_max:\n",
        "      total_max = longest\n",
        "  return total_max"
      ]
    },
    {
      "cell_type": "markdown",
      "source": [
        "## Administrative functions"
      ],
      "metadata": {
        "id": "KkJHLqYJozku"
      }
    },
    {
      "cell_type": "code",
      "source": [
        "def generate_experiment_name():\n",
        "  if experiment_args['baseline']:\n",
        "    if base_args['criterium']:\n",
        "      return data_args['name'] + '_baseline_' + base_args['criterium'] + str(int(base_args['fraction']*100))\n",
        "    else:\n",
        "      return data_args['name'] + '_baseline_' + str(int(base_args['fraction']*100))\n",
        "  else:\n",
        "    if curr_args['banking']:\n",
        "      return data_args['name'] + '_scl_' + curr_args['tactic'] + str(int(curr_args['threshold']*100)) + '_bank'\n",
        "    else:\n",
        "      return data_args['name'] + '_scl_' + curr_args['tactic'] + str(int(curr_args['threshold']*100))"
      ],
      "metadata": {
        "id": "s8vidpZ0oj1v"
      },
      "execution_count": null,
      "outputs": []
    },
    {
      "cell_type": "markdown",
      "metadata": {
        "id": "LoQrGKAkoU4M"
      },
      "source": [
        "## Data maps pipeline"
      ]
    },
    {
      "cell_type": "code",
      "execution_count": null,
      "metadata": {
        "id": "D-Hh7AA15agb"
      },
      "outputs": [],
      "source": [
        "def compute_data_map_scores(logits_list, labels):\n",
        "#Function provided by Yupei Du.\n",
        "#ambiguous_scores: higher = more ambiguous\n",
        "#hard_scores: confidence but negative. closer to zero = lower confidence = harder.\n",
        "    prob = torch.stack(logits_list, dim=0).softmax(dim=-1)\n",
        "    conf = torch.gather(prob, 2, labels[(None,) + (...,) + (None,)].expand_as(prob))[:, :, 0]\n",
        "    ambiguous_scores, hard_scores = torch.std(conf, dim=0), -torch.mean(conf, dim=0)\n",
        "    return ambiguous_scores, hard_scores"
      ]
    },
    {
      "cell_type": "code",
      "source": [
        "def dm_pipeline(tokenized_data, data_collator):\n",
        "  train_dataloader = DataLoader(\n",
        "    tokenized_data[data_args['train_name']], shuffle=True, batch_size=model_args['batch_size'], collate_fn=data_collator\n",
        "  )\n",
        "  train_dataloader_unshuffled = DataLoader(\n",
        "    tokenized_data[data_args['train_name']], shuffle=False, batch_size=model_args['batch_size'], collate_fn=data_collator\n",
        "  )\n",
        "\n",
        "  num_epochs = model_args['num_epochs']\n",
        "  num_training_steps = num_epochs * len(train_dataloader_unshuffled)     #Length dataloader is number of batches in it. So a training step is everytime a batch is used for training.\n",
        "  num_warmup_steps = model_args['num_warmup_steps']\n",
        "  lr = 5e-5\n",
        "\n",
        "  model = AutoModelForSequenceClassification.from_pretrained(model_args['checkpoint'], num_labels=data_args['num_labels'])\n",
        "  device = torch.device(\"cuda\") if torch.cuda.is_available() else torch.device(\"cpu\")\n",
        "  model.to(device)\n",
        "\n",
        "  optimizer = AdamW(model.parameters(), lr=model_args['learning_rate'])\n",
        "  scaler = GradScaler()\n",
        "  lr_scheduler = get_scheduler(\n",
        "    model_args['lr-schedule'],\n",
        "    optimizer=optimizer,\n",
        "    num_warmup_steps=num_warmup_steps,\n",
        "    num_training_steps=num_training_steps,\n",
        "  )\n",
        "\n",
        "  progress_bar = tqdm(range(num_training_steps))\n",
        "\n",
        "  logits_list= [None]*num_epochs #n-th entry in the list corresponds to the n+1th epoch\n",
        "\n",
        "  model.train()\n",
        "  for epoch in range(num_epochs):\n",
        "    logits_list[epoch] = torch.empty(0, data_args['num_labels'])\n",
        "    for batch in train_dataloader_unshuffled:\n",
        "      batch = {k: v.to(device) for k, v in batch.items()}\n",
        "      with autocast(device_type='cuda', dtype=torch.float16):\n",
        "        outputs = model(**batch)\n",
        "        loss = outputs.loss\n",
        "      scaler.scale(loss).backward()\n",
        "\n",
        "      scaler.step(optimizer)\n",
        "      lr_scheduler.step()\n",
        "      optimizer.zero_grad()\n",
        "      scaler.update()\n",
        "      progress_bar.update(1)\n",
        "\n",
        "      logits_list[epoch] = torch.cat((logits_list[epoch],outputs.logits.to('cpu').detach()))\n",
        "\n",
        "  gold_labels = torch.LongTensor(tokenized_data[data_args['train_name']]['labels'])\n",
        "  ambiguous_scores, hard_scores = compute_data_map_scores(logits_list, gold_labels)\n",
        "\n",
        "  return model, (ambiguous_scores, hard_scores)"
      ],
      "metadata": {
        "id": "t7zvadmL8jbI"
      },
      "execution_count": null,
      "outputs": []
    },
    {
      "cell_type": "markdown",
      "source": [
        "## Curriculum class"
      ],
      "metadata": {
        "id": "H05zRXcWUSbW"
      }
    },
    {
      "cell_type": "markdown",
      "source": [
        "Note: 'chunks' in the code are synonymous to 'buckets' in the thesis report."
      ],
      "metadata": {
        "id": "0LEIYyE3q1Z6"
      }
    },
    {
      "cell_type": "code",
      "source": [
        "class Curriculum:\n",
        "  def __init__(self, data, scores, data_collator):\n",
        "    self.data = data\n",
        "    self.ambiguous_scores, self. hard_scores = scores\n",
        "    self.data_collator = data_collator\n",
        "\n",
        "    self.batch_size = model_args['batch_size']\n",
        "    self.num_epochs = model_args['num_epochs']\n",
        "    self.tactic = curr_args['tactic']\n",
        "    self.num_chunks = curr_args['num_chunks']\n",
        "\n",
        "    self.sort()       #Sort data according to 'tactic'.\n",
        "    self.chunk()      #Chunk data into num_chunks chunks.\n",
        "\n",
        "\n",
        "  def sort(self):\n",
        "    # tactic ∈ ['easy','hard','ambiguous']\n",
        "    # 'easy' is easy to hard, 'hard' is hard to easy, 'ambiguous' is from least to most ambiguous\n",
        "    scores = self.ambiguous_scores if self.tactic=='ambiguous' else self.hard_scores\n",
        "    data_w_scores = self.data.add_column(name='scores', column=scores.tolist())\n",
        "\n",
        "    desc = self.tactic=='hard'\n",
        "    sorted_data = data_w_scores.sort(['scores'], reverse=desc)\n",
        "    sorted_data = sorted_data.remove_columns('scores')\n",
        "    self.data = sorted_data\n",
        "\n",
        "  def chunk(self):\n",
        "    chunks = []\n",
        "    size = ceil(len(self.data) / self.num_chunks)\n",
        "    for i in range(self.num_chunks):\n",
        "      subset = Dataset.from_dict(self.data[i*size : i*size+size])\n",
        "      chunks.append(subset)\n",
        "    self.data = chunks\n",
        "\n",
        "\n",
        "  def drop_chunk(self):\n",
        "    if len(self.data) > 1:\n",
        "      self.data = self.data[1:]\n",
        "\n",
        "  def peek_chunk(self):\n",
        "    return self.data[0]\n",
        "\n",
        "  def get_chunk(self, c):\n",
        "    return self.data[c]\n",
        "\n",
        "  def get_n_chunks(self):\n",
        "    return len(self.data)\n",
        "\n",
        "  def create_adaptive_curriculum(self):\n",
        "    return DataLoader(concatenate_datasets(self.data).shuffle(), batch_size=self.batch_size, collate_fn=self.data_collator)\n",
        "\n",
        "  #These functions were used in an earlier form of curriculum learning, but now are no longer used.\n",
        "  def for_epoch(self, e):\n",
        "    return self.per_epoch[e]\n",
        "\n",
        "  def map_curr(self):\n",
        "    lst = [None]*self.num_epochs\n",
        "    for e in range(self.num_epochs):\n",
        "      nonzero_chunks = [self.data[x] for x in range(self.num_epochs) if self.curriculum[e][x] != 0]\n",
        "      nonzero_curriculum = [x for x in self.curriculum[e] if x != 0]\n",
        "      lst[e] = interleave_datasets(nonzero_chunks, probabilities=nonzero_curriculum, stopping_strategy=\"first_exhausted\")\n",
        "    self.per_epoch = lst"
      ],
      "metadata": {
        "id": "wGm2pUvHU6tR"
      },
      "execution_count": null,
      "outputs": []
    },
    {
      "cell_type": "markdown",
      "source": [
        "## SCL pipeline"
      ],
      "metadata": {
        "id": "RdyYeIi4gP32"
      }
    },
    {
      "cell_type": "code",
      "source": [
        "def scl_pipeline(tokenized_data, tokenized_ood, data_collator, scores, seed):\n",
        "  #SYNONYMS.\n",
        "  baseline = experiment_args['baseline']\n",
        "  banking = curr_args['banking']\n",
        "  num_epochs = model_args['num_epochs']\n",
        "  num_chunks = curr_args['num_chunks']\n",
        "  threshold = curr_args['threshold']\n",
        "  banking   = curr_args['banking']\n",
        "\n",
        "  #CREATE DATALOADER OR CURRICULUM OBJECT.\n",
        "  if baseline:\n",
        "    train = select_baseline(tokenized_data[data_args['train_name']], base_args['fraction'], seed, base_args['criterium'])\n",
        "  else:\n",
        "    curr = Curriculum(tokenized_data['train'], scores, data_collator)\n",
        "    train = tokenized_data[data_args['train_name']]\n",
        "  val  = tokenized_data[data_args['val_name']]\n",
        "  test1 = tokenized_data[data_args['test_name']]\n",
        "  test2 = tokenized_ood\n",
        "  train_dl = DataLoader(train, batch_size=model_args['batch_size'], collate_fn=data_collator)\n",
        "  val_dl   = DataLoader(val,   batch_size=model_args['batch_size'], collate_fn=data_collator)\n",
        "  test1_dl  = DataLoader(test1,  batch_size=model_args['batch_size'], collate_fn=data_collator)\n",
        "  test2_dl  = DataLoader(test2,  batch_size=model_args['batch_size'], collate_fn=data_collator)\n",
        "\n",
        "  #MODEL, OPTIMIZER, LR-SCHEDULER SETUP.\n",
        "  model = AutoModelForSequenceClassification.from_pretrained(model_args['checkpoint'], num_labels=data_args['num_labels'])\n",
        "  device = torch.device(\"cuda\") if torch.cuda.is_available() else torch.device(\"cpu\")\n",
        "  model.to(device)\n",
        "\n",
        "  optimizer = AdamW(model.parameters(), lr=model_args['learning_rate'])\n",
        "  scaler = GradScaler()\n",
        "\n",
        "  if baseline or banking:\n",
        "    lr_scheduler = get_scheduler(\n",
        "      model_args['lr-schedule'],\n",
        "      optimizer=optimizer,\n",
        "      num_warmup_steps=model_args['num_warmup_steps'],\n",
        "      num_training_steps=num_epochs*len(train_dl),\n",
        "    )\n",
        "  else:\n",
        "    lr_scheduler = LinearLR(\n",
        "        optimizer,\n",
        "        start_factor = 1,\n",
        "        end_factor = 0,\n",
        "        total_iters= num_epochs-1,\n",
        "        last_epoch= -1,\n",
        "      )\n",
        "\n",
        "\n",
        "  #ACCUMULATORS FOR METRICS AND BATCH COUNT.\n",
        "  metric_lst = []\n",
        "  total_batches = 0\n",
        "\n",
        "\n",
        "  #Accumulator for banking and epochs\n",
        "  bank = 0\n",
        "  epoch = 0\n",
        "\n",
        "  progress_bar = tqdm(range(num_epochs*len(train_dl)))  #Upperbound for nobanking curriculum.\n",
        "  while epoch < num_epochs or bank > 0:\n",
        "    print('Epoch '+str(epoch+1), end='')\n",
        "\n",
        "    #Create adaptive curriculum and do banking.\n",
        "    if not baseline:\n",
        "      train_dl = curr.create_adaptive_curriculum()\n",
        "      if banking:\n",
        "        if epoch < num_epochs:\n",
        "          #Main phase: deposit chunks in bank if we've dropped some in previous epochs.\n",
        "          print(' > main phase, depositing ' + str(curr_args['num_chunks'] - curr.get_n_chunks()) + ' chunks', end='')\n",
        "          bank += (curr_args['num_chunks'] - curr.get_n_chunks())\n",
        "        else:\n",
        "          #Extension phase: withdraw chunks from bank.\n",
        "          while curr.get_n_chunks() > bank:\n",
        "            #Ensure we don't overdraw: if bank has fewer chunks left than in our curriculum, only use the hardest/most ambiguous chunks.\n",
        "            #This will be the last epoch.\n",
        "            curr.drop_chunk()\n",
        "          print(' > extension phase, withdrawing '+ str(curr.get_n_chunks()) + ' chunks', end='')\n",
        "          bank -= curr.get_n_chunks()\n",
        "\n",
        "    #Training\n",
        "    model.train()\n",
        "    if baseline:\n",
        "      print(' > training', end='')\n",
        "    else:\n",
        "      print(' > training with ' + str(curr.get_n_chunks()) + ' chunks' , end='')\n",
        "    for batch in train_dl:\n",
        "      total_batches+=1\n",
        "      batch = {k: v.to(device) for k, v in batch.items()}\n",
        "      with autocast(device_type='cuda', dtype=torch.float16):\n",
        "        outputs = model(**batch)\n",
        "        loss = outputs.loss\n",
        "      scaler.scale(loss).backward()\n",
        "\n",
        "      scaler.step(optimizer)\n",
        "      if baseline or banking:\n",
        "        #LR step after every batch.\n",
        "        lr_scheduler.step()\n",
        "      optimizer.zero_grad()\n",
        "      scaler.update()\n",
        "      progress_bar.update(1)\n",
        "    if not (baseline or banking):\n",
        "      #LR step after every epoch\n",
        "      lr_scheduler.step()\n",
        "\n",
        "\n",
        "    #VALIDATION DURING TRAINING\n",
        "    metric = load('accuracy')\n",
        "    print(' > evaluating', end='')\n",
        "\n",
        "    for batch in val_dl:\n",
        "      batch = {k: v.to(device) for k, v in batch.items()}\n",
        "      with torch.no_grad():\n",
        "        outputs = model(**batch)\n",
        "\n",
        "      logits = outputs.logits\n",
        "      predictions = torch.argmax(logits, dim=-1)\n",
        "      metric.add_batch(predictions=predictions, references=batch[\"labels\"])\n",
        "\n",
        "    metric_lst.append(metric.compute())\n",
        "    print(': ' + '{:.3f}'.format(metric_lst[-1]['accuracy']), end='')\n",
        "\n",
        "\n",
        "    #CHECK IF CHUNKS CAN BE DROPPED FROM CURRICULUM\n",
        "    if not baseline:\n",
        "      print(' > evaluating chunks', end='')\n",
        "\n",
        "      while curr.get_n_chunks()>1:\n",
        "        metric = load('accuracy')\n",
        "        chunk_dl = DataLoader(curr.peek_chunk().shuffle().select(range(1000)), batch_size=model_args['batch_size'], collate_fn=data_collator)\n",
        "\n",
        "        for batch in chunk_dl:\n",
        "          batch = {k: v.to(device) for k, v in batch.items()}\n",
        "          with torch.no_grad():\n",
        "            outputs = model(**batch)\n",
        "\n",
        "          logits = outputs.logits\n",
        "          predictions = torch.argmax(logits, dim=-1)\n",
        "          metric.add_batch(predictions=predictions, references=batch[\"labels\"])\n",
        "        if metric.compute()['accuracy'] > threshold:\n",
        "          #If the accuracy of this chunk is above the threshold: drop the chunk and evaluate next chunk.\n",
        "          print(' > drop (acc:%.3f)' % metric.compute()['accuracy'], end='')\n",
        "          curr.drop_chunk()\n",
        "        else:\n",
        "          #If the accuracy of this chunk is under the threshold: we assume the next, more difficult chunk\n",
        "          #will also be. We can stop the evaluation loop.\n",
        "          print(' > continue (acc:%.3f)' % metric.compute()['accuracy'], end='')\n",
        "          break\n",
        "    print(' > done')\n",
        "    epoch += 1\n",
        "\n",
        "  #OOD EVALUATION\n",
        "  print('Testing on test dataset', end='')\n",
        "  metric = load('accuracy')\n",
        "\n",
        "  for batch in test1_dl:\n",
        "      batch = {k: v.to(device) for k, v in batch.items()}\n",
        "\n",
        "      with torch.no_grad():\n",
        "          outputs = model(**batch)\n",
        "\n",
        "      logits = outputs.logits\n",
        "      predictions = torch.argmax(logits, dim=-1)\n",
        "      metric.add_batch(predictions=predictions, references=batch[\"labels\"])\n",
        "\n",
        "  metric_lst.append(metric.compute())\n",
        "  print(' > accuracy: ' + '{:.3f}'.format(metric_lst[-1]['accuracy']), end='')\n",
        "  print(' > done')\n",
        "\n",
        "  print('Testing on GLUEdiag dataset', end='')\n",
        "  metric = load('accuracy')\n",
        "\n",
        "  for batch in test2_dl:\n",
        "      batch = {k: v.to(device) for k, v in batch.items()}\n",
        "\n",
        "      with torch.no_grad():\n",
        "          outputs = model(**batch)\n",
        "\n",
        "      logits = outputs.logits\n",
        "      predictions = torch.argmax(logits, dim=-1)\n",
        "      metric.add_batch(predictions=predictions, references=batch[\"labels\"])\n",
        "\n",
        "  metric_lst.append(metric.compute())\n",
        "  print(' > accuracy: ' + '{:.3f}'.format(metric_lst[-1]['accuracy']), end='')\n",
        "  print(' > done')\n",
        "\n",
        "  print('Batch count: ' + str(total_batches))\n",
        "\n",
        "  return model, metric_lst"
      ],
      "metadata": {
        "id": "imbU1lVPHv0_"
      },
      "execution_count": null,
      "outputs": []
    },
    {
      "cell_type": "markdown",
      "metadata": {
        "id": "cYkuJpe5ZPL8"
      },
      "source": [
        "# Arguments"
      ]
    },
    {
      "cell_type": "markdown",
      "source": [
        "Arguments are global dicts that serve as parameters for the pipelines.\n",
        "\n",
        "1.   `model_args` contains parameters for the model, e.g. `learning_rate` and `batch_size`.\n",
        "2.   `data_args` contains information about a dataset. Currently two version of `data_args` are set up: for `MRPC` and for `MultiNLI`.\n",
        "3.   `curr_args` contains parameters for doing curriculums, e.g. `tactic` and `curriculum`.\n",
        "4.   `experiment_args` contains parameters for running experiments, like `num_runs` and `baseline`."
      ],
      "metadata": {
        "id": "FpDKVJzdCRSh"
      }
    },
    {
      "cell_type": "code",
      "source": [
        "experiment_args = {\n",
        "  'baseline'          : True,\n",
        "  'num_runs'          : 1,\n",
        "}"
      ],
      "metadata": {
        "id": "gSULUTQFX0x0"
      },
      "execution_count": null,
      "outputs": []
    },
    {
      "cell_type": "code",
      "execution_count": null,
      "metadata": {
        "id": "GTHAgy1YmD8B"
      },
      "outputs": [],
      "source": [
        "curr_args = {\n",
        "    'tactic'           : 'easy',          # tactic ∈ [None, 'easy', 'hard','ambiguous']\n",
        "    'num_chunks'       : 10,\n",
        "    'threshold'        : 0.93,\n",
        "    'banking'          : False,\n",
        "}"
      ]
    },
    {
      "cell_type": "code",
      "source": [
        "base_args = {\n",
        "    'fraction'         : 1,               # Fraction of the dataset to be used in total.\n",
        "    'criterium'        : None,             # criterium ∈ [None, 'easy', 'hard','ambiguous']. If none, just select the fraction and shuffle.\n",
        "}\n",
        "\n",
        "#Example: {'fraction':0.33, 'criterium':'hard'} means train with only hardest 33%."
      ],
      "metadata": {
        "id": "gkl_LnRFVL21"
      },
      "execution_count": null,
      "outputs": []
    },
    {
      "cell_type": "code",
      "execution_count": null,
      "metadata": {
        "id": "6RtBRBAP4AmW"
      },
      "outputs": [],
      "source": [
        "model_args = {\n",
        "  'checkpoint'         : 'distilbert-base-cased',\n",
        "  'learning_rate'      : 5e-5,\n",
        "  'lr-schedule'        : 'linear',\n",
        "  'num_warmup_steps'   : 0,\n",
        "  'batch_size'         : 128,\n",
        "  'num_epochs'         : 6,\n",
        "}"
      ]
    },
    {
      "cell_type": "code",
      "execution_count": null,
      "metadata": {
        "id": "JtwEZa9XDLH6"
      },
      "outputs": [],
      "source": [
        "data_args = {\n",
        "  'load_path'           : ('glue', 'mnli'),\n",
        "  'name'                : 'mnli',\n",
        "  'num_labels'          : 3,          #Labels mnli are ['entailment','neutral','contradiction'] or [0,1,2]\n",
        "  'train_name'          : 'train',\n",
        "  'val_name'            : 'validation_matched',       # ID\n",
        "  'test_name'           : 'validation_mismatched',    # OOD\n",
        "  'str_name_1'          : 'premise',\n",
        "  'str_name_2'          : 'hypothesis',\n",
        "}\n",
        "\n",
        "# data_args = {\n",
        "#   'load_path'           : 'snli',\n",
        "#   'name'                : 'snli',\n",
        "#   'num_labels'          : 3,          #Labels mnli/snli are ['entailment','neutral','contradiction'] or [0,1,2]\n",
        "#   'train_name'          : 'train',\n",
        "#   'val_name'            : 'validation',\n",
        "#   'test_name'           : 'test',\n",
        "#   'str_name_1'          : 'premise',\n",
        "#   'str_name_2'          : 'hypothesis',\n",
        "# }"
      ]
    },
    {
      "cell_type": "markdown",
      "metadata": {
        "id": "4J1dIF2gI8h3"
      },
      "source": [
        "# Main control"
      ]
    },
    {
      "cell_type": "markdown",
      "source": [
        "## Data loading, preprocessing, tokenization"
      ],
      "metadata": {
        "id": "8yWfvCsq8RMJ"
      }
    },
    {
      "cell_type": "code",
      "execution_count": null,
      "metadata": {
        "id": "R6OawiCmJAx6",
        "colab": {
          "base_uri": "https://localhost:8080/"
        },
        "outputId": "4ac79c6f-5da8-4df0-bb4e-5cee120a6979"
      },
      "outputs": [
        {
          "output_type": "stream",
          "name": "stderr",
          "text": [
            "/usr/local/lib/python3.10/dist-packages/huggingface_hub/repocard.py:105: UserWarning: Repo card metadata block was not found. Setting CardData to empty.\n",
            "  warnings.warn(\"Repo card metadata block was not found. Setting CardData to empty.\")\n"
          ]
        }
      ],
      "source": [
        "raw_data = load_data(data_args['load_path'], size='full')\n",
        "ood_data = load_dataset(\"pietrolesci/glue_diagnostics\")"
      ]
    },
    {
      "cell_type": "code",
      "source": [
        "tokenizer = AutoTokenizer.from_pretrained(model_args['checkpoint'])\n",
        "\n",
        "def tokenize_fn(sample):\n",
        "  return tokenizer(sample[data_args['str_name_1']], sample[data_args['str_name_2']], truncation=True)\n",
        "\n",
        "tokenized_data = raw_data.map(tokenize_fn, batched=True)\n",
        "tokenized_ood = ood_data.map(tokenize_fn, batched=True)\n",
        "data_collator = DataCollatorWithPadding(tokenizer=tokenizer)\n",
        "\n",
        "tokenized_data = data_cleaner(tokenized_data)\n",
        "tokenized_ood = data_cleaner_ood(tokenized_ood)"
      ],
      "metadata": {
        "id": "MCt4GsZ8PuB_",
        "colab": {
          "base_uri": "https://localhost:8080/",
          "height": 269,
          "referenced_widgets": [
            "b8957d8a287c4c2d8c7a961763f5998a",
            "df68ab3daf94431ab31b1e507a8eba6e",
            "e0594f1acdbe4677afb23ae6fe37b228",
            "ee2310db6c294620929ed838fc6ec8b7",
            "1cb14ef1b7d94635b9e1e24860559ded",
            "e2810d76c3034792972ddcc6d25350d0",
            "b21e3109fd11409795e8103fb97d0e83",
            "37b83d68735b49dcb0b9cde812996952",
            "8bc8590d7d58460d8304772e4bb370ac",
            "ddc779e3b1cd4840ba590408fdc716c4",
            "ec5f03c5aa164259b4998f7d6fab0fb5",
            "4486b5d3fb1b4893b7ea046955a3ec70",
            "9cd825b547b74866bb8e68ac72849c7c",
            "470eba412a554f1f98da0ebb1c7b8d21",
            "0c1f3bfb1d9c41f78a1eaa61df89fe8c",
            "821eb312b132416696369a5ac6e26b35",
            "072932b6a3aa478b87ffd62e32087302",
            "61ec9f830fe44a71b803781e8c439857",
            "cc406cc0cad749a0ae95f479303a64ec",
            "ac4f8d55b64b41e884ab14965a745319",
            "e832c57394e84093b1b5b369c88752f6",
            "917492663e334f21bfaf4b08175573f9"
          ]
        },
        "outputId": "6af1fd0a-bc39-4fce-824e-7950c65997e7"
      },
      "execution_count": null,
      "outputs": [
        {
          "output_type": "display_data",
          "data": {
            "text/plain": [
              "Map:   0%|          | 0/9815 [00:00<?, ? examples/s]"
            ],
            "application/vnd.jupyter.widget-view+json": {
              "version_major": 2,
              "version_minor": 0,
              "model_id": "b8957d8a287c4c2d8c7a961763f5998a"
            }
          },
          "metadata": {}
        },
        {
          "output_type": "display_data",
          "data": {
            "text/plain": [
              "Filter:   0%|          | 0/9815 [00:00<?, ? examples/s]"
            ],
            "application/vnd.jupyter.widget-view+json": {
              "version_major": 2,
              "version_minor": 0,
              "model_id": "4486b5d3fb1b4893b7ea046955a3ec70"
            }
          },
          "metadata": {}
        }
      ]
    },
    {
      "cell_type": "markdown",
      "source": [
        "## Generate or load training dynamics(DM scores)."
      ],
      "metadata": {
        "id": "Z-ospC_b8WJb"
      }
    },
    {
      "cell_type": "markdown",
      "source": [
        "Generate training dynamics by doing a training run using the `dm_pipeline` or ..."
      ],
      "metadata": {
        "id": "vn1dvT588x_n"
      }
    },
    {
      "cell_type": "code",
      "execution_count": null,
      "metadata": {
        "id": "FBXDUC_OtFRw",
        "colab": {
          "base_uri": "https://localhost:8080/",
          "height": 49,
          "referenced_widgets": [
            "f3f0ed256a8f403ca4eee5f1a1cdfe13",
            "11bc1d083aad415eb69c1ccbd8f248bb",
            "dc3e107ea7914d45a1b4f3dd16299317",
            "59cd8c7620894b7fb98c536cf3b53bae",
            "d35f84efb5f54bb8bcea66dd9d340bcf",
            "bf6c654bb591472397a16c8d7c308d4f",
            "18254847d0734587b6b2f275bbd68d6f",
            "446c20f36d9541368bb401edb2ee9c5d",
            "81163c55c9e04efdb02ef80142af3679",
            "b39f676c1d9d43b69f982b77a3b273d0",
            "21a07568fb874fc7a3e1ee77759ffd91"
          ]
        },
        "outputId": "fdaddb6e-ed71-4818-8752-a8cf144aa320"
      },
      "outputs": [
        {
          "output_type": "display_data",
          "data": {
            "text/plain": [
              "  0%|          | 0/25752 [00:00<?, ?it/s]"
            ],
            "application/vnd.jupyter.widget-view+json": {
              "version_major": 2,
              "version_minor": 0,
              "model_id": "f3f0ed256a8f403ca4eee5f1a1cdfe13"
            }
          },
          "metadata": {}
        }
      ],
      "source": [
        "#If scores were saved earlier: skip this cell and the next one.\n",
        "dm_model, scores = dm_pipeline(tokenized_data, data_collator)\n",
        "ambiguous_scores, hard_scores = scores"
      ]
    },
    {
      "cell_type": "code",
      "execution_count": null,
      "metadata": {
        "id": "ChCLe5T7TrqS"
      },
      "outputs": [],
      "source": [
        "torch.save(ambiguous_scores, 'drive/MyDrive/thesis/experiments/results/'+data_args['name']+'/ambiguous_scores.pt')\n",
        "torch.save(hard_scores,      'drive/MyDrive/thesis/experiments/results/'+data_args['name']+'/hard_scores.pt')"
      ]
    },
    {
      "cell_type": "markdown",
      "source": [
        "... load them if you have them saved from an earlier run."
      ],
      "metadata": {
        "id": "z3kyqcdJ9Hwa"
      }
    },
    {
      "cell_type": "code",
      "execution_count": null,
      "metadata": {
        "id": "byn14iHVrf7A"
      },
      "outputs": [],
      "source": [
        "ambiguous_scores = torch.load('drive/MyDrive/thesis/experiments/results/'+data_args['name']+'/ambiguous_scores.pt')\n",
        "hard_scores = torch.load('drive/MyDrive/thesis/experiments/results/'+data_args['name']+'/hard_scores.pt')\n",
        "scores = (ambiguous_scores, hard_scores)"
      ]
    },
    {
      "cell_type": "markdown",
      "source": [
        "Plot the training dynamics to observe their spread."
      ],
      "metadata": {
        "id": "BDaLwcs19Lzc"
      }
    },
    {
      "cell_type": "code",
      "source": [
        "plt.xlabel('variability')\n",
        "plt.ylabel('confidence')\n",
        "\n",
        "sample_size = 25000\n",
        "\n",
        "np.random.seed(42)\n",
        "ambiguous_scores_sample = np.random.choice(ambiguous_scores.numpy(), size=sample_size, replace=False)\n",
        "np.random.seed(42)\n",
        "hard_scores_sample      = np.random.choice(hard_scores.numpy(),      size=sample_size, replace=False)\n",
        "plt.scatter(\n",
        "    ambiguous_scores_sample,\n",
        "    hard_scores_sample*-1,\n",
        "    s=0.1)"
      ],
      "metadata": {
        "colab": {
          "base_uri": "https://localhost:8080/",
          "height": 466
        },
        "id": "5HStz2ATdFt6",
        "outputId": "ed777225-c927-4562-e48a-10e009b0208a"
      },
      "execution_count": null,
      "outputs": [
        {
          "output_type": "execute_result",
          "data": {
            "text/plain": [
              "<matplotlib.collections.PathCollection at 0x7f8486e835e0>"
            ]
          },
          "metadata": {},
          "execution_count": 60
        },
        {
          "output_type": "display_data",
          "data": {
            "text/plain": [
              "<Figure size 640x480 with 1 Axes>"
            ],
            "image/png": "[encoded data removed]"
          },
          "metadata": {}
        }
      ]
    },
    {
      "cell_type": "code",
      "source": [
        "plt.hist(hard_scores.numpy()*-1, bins=100)"
      ],
      "metadata": {
        "id": "KFXJhUjljApb"
      },
      "execution_count": null,
      "outputs": []
    },
    {
      "cell_type": "code",
      "source": [
        "plt.hist(ambiguous_scores.numpy(), bins=100)"
      ],
      "metadata": {
        "id": "NElHxgR3jBw6"
      },
      "execution_count": null,
      "outputs": []
    },
    {
      "cell_type": "markdown",
      "source": [
        "## Run experiments"
      ],
      "metadata": {
        "id": "ragQNoRm9ffc"
      }
    },
    {
      "cell_type": "code",
      "source": [
        "#Synonyms\n",
        "baseline    = experiment_args['baseline']\n",
        "num_runs    = experiment_args['num_runs']\n",
        "num_epochs  = model_args['num_epochs']\n",
        "fraction    = base_args['fraction']\n",
        "criterium   = base_args['criterium']\n",
        "tactic      = curr_args['tactic']\n",
        "threshold   = curr_args['threshold']\n",
        "data_name   = data_args['name']\n",
        "\n",
        "\n",
        "#Do runs with different seeds\n",
        "for i in range(num_runs):\n",
        "  seed = random.randint(1, int(1e4))\n",
        "  set_seed(seed)\n",
        "\n",
        "  #Print what kind of run this is.\n",
        "  if baseline:\n",
        "    if criterium:\n",
        "      print('Training baseline model with seed '+str(seed)+' and the '+criterium+' '+str(int(fraction*100))+'% of the data.')\n",
        "    else:\n",
        "      print('Training baseline model with seed '+str(seed)+' and '+str(int(fraction*100))+'% of the data.')\n",
        "  else:\n",
        "    print('Training adaptive curriculum model with seed '+str(seed)+', tactic '+tactic+' and threshold '+str(threshold)+'.')\n",
        "\n",
        "  #Train a model and calculate metrics for it. Validation metrics are printed during run.\n",
        "  ft_model, run_metrics = scl_pipeline(tokenized_data, tokenized_ood, data_collator, scores, seed)\n",
        "\n",
        "  #Cumulate metrics.\n",
        "  run_metrics = pd.DataFrame(run_metrics)\n",
        "  cum_metrics = run_metrics if i==0 else cum_metrics+run_metrics\n",
        "  print('')\n",
        "\n",
        "#Calculate mean metrics over different seeds.\n",
        "mean_metrics = (cum_metrics/num_runs).round(3)\n",
        "mean_metrics.insert(0,'epoch', list(range(1,num_epochs+1))+['test','glue'],True)\n",
        "\n",
        "#Save metrics for this experimental setup\n",
        "run_name = generate_experiment_name()\n",
        "mean_metrics.to_pickle('drive/MyDrive/thesis/experiments/results/'+data_name+'/'+run_name)"
      ],
      "metadata": {
        "id": "53AXpJ4DBrsd"
      },
      "execution_count": null,
      "outputs": []
    }
  ]
}